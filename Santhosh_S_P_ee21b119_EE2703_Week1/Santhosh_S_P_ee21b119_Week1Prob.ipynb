{
 "cells": [
  {
   "cell_type": "markdown",
   "id": "bc66b3b5-035d-4397-af1d-5c64e180632f",
   "metadata": {},
   "source": [
    "# Document metadata\n",
    "\n",
    "> *Problem statement: modify this document so that the author name reflects your name and roll number.  Explain the changes you needed to make here.  If you use other approaches such as LaTeX to generate the PDF, explain the differences between the notebook approach and what you have used.*"
   ]
  },
  {
   "cell_type": "markdown",
   "id": "47576f05-90e1-4c8b-b75b-13ebffe95171",
   "metadata": {},
   "source": [
    "# Basic Data Types\n",
    "\n",
    "Here we have a series of small problems involving various basic data types in Python.  You are required to complete the code where required, and give *brief* explanations of your answers.  Remember that the documentation and explanation is as important as the answer.\n",
    "\n",
    "For each of the following cells, first execute them, and then give a brief explanation of why the answer comes out to be the way it does.  If there is an error during execution of the cell, explain how you fixed it.  **Add a new cell of type Markdown with the explanation** after the corresponding cell.  If you are using plain Python, add suitable comments after each line and explain this in the documentation (clearly you would be better off using Notebooks here)."
   ]
  },
  {
   "cell_type": "markdown",
   "id": "90d271f4",
   "metadata": {},
   "source": [
    "## Numerical types"
   ]
  },
  {
   "cell_type": "markdown",
   "id": "72b8a974",
   "metadata": {},
   "source": [
    "### Division operation"
   ]
  },
  {
   "cell_type": "code",
   "execution_count": 1,
   "id": "1e2d2e6e",
   "metadata": {},
   "outputs": [
    {
     "name": "stdout",
     "output_type": "stream",
     "text": [
      "2.4\n"
     ]
    }
   ],
   "source": [
    "print(12 / 5)"
   ]
  },
  {
   "cell_type": "markdown",
   "id": "9d00e590",
   "metadata": {},
   "source": [
    "The above line prints the result of the division operation between the integers 12 and 5. The output is implicitly converted into a float to prevent data loss."
   ]
  },
  {
   "cell_type": "markdown",
   "id": "e5b6b448",
   "metadata": {},
   "source": [
    "### Floor division operation"
   ]
  },
  {
   "cell_type": "code",
   "execution_count": 2,
   "id": "1b587eb7",
   "metadata": {},
   "outputs": [
    {
     "name": "stdout",
     "output_type": "stream",
     "text": [
      "2\n"
     ]
    }
   ],
   "source": [
    "print(12 // 5)"
   ]
  },
  {
   "cell_type": "markdown",
   "id": "b73d6024",
   "metadata": {},
   "source": [
    "The `//` operator used in the above line is the floor division operator. It rounds down the result of the division operation between the two operands to the nearest integer.\n",
    "\n",
    "The above line prints the result of floor division of 12 by 5. The result of the normal division is 2.4, which is rounded down to 2. Therefore, the output obtained is 2."
   ]
  },
  {
   "cell_type": "markdown",
   "id": "2473c0f0",
   "metadata": {},
   "source": [
    "### The assignment operator"
   ]
  },
  {
   "cell_type": "code",
   "execution_count": 3,
   "id": "97a6c535",
   "metadata": {},
   "outputs": [
    {
     "name": "stdout",
     "output_type": "stream",
     "text": [
      "10 10 1.0\n"
     ]
    }
   ],
   "source": [
    "a=b=10\n",
    "print(a,b,a/b)"
   ]
  },
  {
   "attachments": {},
   "cell_type": "markdown",
   "id": "30c321f1",
   "metadata": {},
   "source": [
    "The operator `=` is the assignment operator in python. It assigns the object containing the value, which is found to the right of the operator to the variable to its left.\n",
    "\n",
    "The first line of the above cell assigns the same value `10` to multiple variables `a` and `b`. The value `10` is first assigned to the variable `b`, then the value stored in variable `b` (`10` here) is assigned to the variable `a`.\n",
    "\n",
    "The line `print(a,b,a/b)` prints the the value stored in variables `a`, `b` and the result of the division between `a` and `b` in a single line, seperated by spaces. In this case it displays `10 10 1.0`, as the values stored in `a` and `b` are 10 and the result of `a/b` is `1.0` because of implicit type conversion of the result into float from integer."
   ]
  },
  {
   "cell_type": "markdown",
   "id": "af329d1c",
   "metadata": {},
   "source": [
    "## Strings and related operations"
   ]
  },
  {
   "cell_type": "markdown",
   "id": "5ddfc9c5",
   "metadata": {},
   "source": [
    "### Printing strings"
   ]
  },
  {
   "cell_type": "code",
   "execution_count": 4,
   "id": "ba913542",
   "metadata": {},
   "outputs": [
    {
     "name": "stdout",
     "output_type": "stream",
     "text": [
      "Hello \n"
     ]
    }
   ],
   "source": [
    "a = \"Hello \"\n",
    "print(a)"
   ]
  },
  {
   "cell_type": "markdown",
   "id": "61c8557c",
   "metadata": {},
   "source": [
    "The variable `a` which earlier referred to an object containing an integer `10`, now points to an object containing a string `Hello ` after the reassignment in the first line of the cell.\n",
    "\n",
    "The second line prints the value stored in the object that the variable `a` points to, (`Hello ` in this case)."
   ]
  },
  {
   "cell_type": "markdown",
   "id": "3f3e3c3a",
   "metadata": {},
   "source": [
    "### Addition of strings"
   ]
  },
  {
   "cell_type": "code",
   "execution_count": 5,
   "id": "ad0e046b",
   "metadata": {},
   "outputs": [
    {
     "name": "stdout",
     "output_type": "stream",
     "text": [
      "Hello 10\n"
     ]
    }
   ],
   "source": [
    "b=\"10\"\n",
    "print(a+b)  # Output should contain \"Hello 10\" "
   ]
  },
  {
   "cell_type": "markdown",
   "id": "86028918",
   "metadata": {},
   "source": [
    "The original code given in the above cell returns a `TypeError` because concatenation is only possible on strings, whereas the variable `b` refers to an integer object containing the value `10`.\n",
    "\n",
    "This error can be resolved and the required output `Hello 10` can be obtained if we reassign the variable `b` to an object of type `string` containing the value `10` by the statement `b=\"10\"` before the line `print(a+b)`."
   ]
  },
  {
   "cell_type": "markdown",
   "id": "9d7eb59d",
   "metadata": {},
   "source": [
    "### Multiplying strings by positive integers"
   ]
  },
  {
   "cell_type": "code",
   "execution_count": 6,
   "id": "e2793fa4",
   "metadata": {},
   "outputs": [
    {
     "name": "stdout",
     "output_type": "stream",
     "text": [
      "----------------------------------------\n",
      "                                      42\n",
      "*-*-*-*-*-*-*-*-*-*-*-*-*-*-*-*-*-*-*-*-\n"
     ]
    }
   ],
   "source": [
    "# Print out a line of 40 '-' signs (to look like one long line)\n",
    "print(40*\"-\")\n",
    "\n",
    "# Then print the number 42 so that it is right justified to the end of \n",
    "# the above line\n",
    "print(f\"{42:>40}\")\n",
    "\n",
    "# Then print one more line of length 40, but with the pattern '*-*-*-' \n",
    "print(20*\"*-\")"
   ]
  },
  {
   "cell_type": "markdown",
   "id": "b9ed2ab3",
   "metadata": {},
   "source": [
    "Multiplication of a string by an integer (say `n`), results in repeated concatenation of the string by `n` times. \n",
    "\n",
    "In the line `print(40*\"-\")` concatentates the given string \"-\" 40 times, to produce the resultant string (a line of 40 '-' signs), and prints it.\n",
    "\n",
    "The line `print(f\"{42:>40}\")`, assigns a space of 40 characters to print the result (`42` in this case) aligned to the right. It prints the integer `42` right justified to the end of the previous line.\n",
    "\n",
    "The line `print(20*\"*-\")` concatenates the string `*-` 20 times, to produce a alternating pattern of `*-` of total length 40 and prints it on the next line."
   ]
  },
  {
   "cell_type": "markdown",
   "id": "25442a86",
   "metadata": {},
   "source": [
    "### f-strings"
   ]
  },
  {
   "cell_type": "code",
   "execution_count": 7,
   "id": "9b4e1f03",
   "metadata": {},
   "outputs": [
    {
     "name": "stdout",
     "output_type": "stream",
     "text": [
      "The variable 'a' has the value Hello  and 'b' has the value         10\n"
     ]
    }
   ],
   "source": [
    "print(f\"The variable 'a' has the value {a} and 'b' has the value {b:>10}\")"
   ]
  },
  {
   "cell_type": "markdown",
   "id": "e3ead430",
   "metadata": {},
   "source": [
    "In the above block of code, f-strings are used to format the string. These strings have a placeholder to directly insert the value of the variable in the string. In place of `{a}`, the actual object whose value is referred to by the variable name `a` (which is `Hello ` in this case), is inserted in the f-string.\n",
    "\n",
    "Similarly, in place of `{b:>10}`, the actual value of the object referred by the variable `b` (10 in this case), is inserted with right-alignment taking a total of 10 spaces in the f-string."
   ]
  },
  {
   "cell_type": "markdown",
   "id": "7002ab68",
   "metadata": {},
   "source": [
    "### Pretty printing contents of a list of dictionaries"
   ]
  },
  {
   "cell_type": "code",
   "execution_count": 8,
   "id": "9d746f81",
   "metadata": {},
   "outputs": [
    {
     "name": "stdout",
     "output_type": "stream",
     "text": [
      "EE2703                     Applied Programming Lab\n",
      "EE2003                       Computer Organization\n",
      "EE5311                           Digital IC Design\n"
     ]
    }
   ],
   "source": [
    "# Create a list of dictionaries where each entry in the list has two keys:\n",
    "# - id: this will be the ID number of a course, for example 'EE2703'\n",
    "# - name: this will be the name, for example 'Applied Programming Lab'\n",
    "# Add 3 entries:\n",
    "# EE2703 -> Applied Programming Lab\n",
    "# EE2003 -> Computer Organization\n",
    "# EE5311 -> Digital IC Design\n",
    "# Then print out the entries in a neatly formatted table where the \n",
    "# ID number is left justified\n",
    "# to 10 spaces and the name is right justified to 40 spaces.  \n",
    "# That is it should look like:\n",
    "\n",
    "# EE2703                     Applied Programming Lab\n",
    "# EE2003                       Computer Organization\n",
    "# EE5131                           Digital IC Design\n",
    "                                                    \n",
    "    \n",
    "\n",
    "\n",
    "dict_keys = [\"id\", \"name\"]\n",
    "dict_values = [[\"EE2703\", \"Applied Programming Lab\"], [\"EE2003\", \"Computer Organization\"], [\"EE5311\", \"Digital IC Design\"]]\n",
    "dict_list = []\n",
    "for value in dict_values:\n",
    "    dict_list.append(dict(zip(dict_keys, value)))\n",
    "\n",
    "\n",
    "for i in dict_list:\n",
    "    print(f\"{i['id']:<10}\",end=\"\")\n",
    "    print(f\"{i['name']:>40}\")\n"
   ]
  },
  {
   "cell_type": "markdown",
   "id": "edcf5ce2",
   "metadata": {},
   "source": [
    "In the above cell, we create a list of three dictionaries, each with two keys, `id` and `name`.\n",
    "\n",
    "We create a list `dict_keys` containing the common keys (`id` and `name`), and a nested list `dict_values` containing three lists, each containing the `id` and `name` of a course. We also initialize an empty list `dict_list` to store them as a list of dictionaries.\n",
    "\n",
    "In the `for` loop, we select each element of `dict_list` one at a time (say `value` in this case), and call `zip(dict_keys, value)`. It creates an iterator of tuples containing one element of each list. On applying `dict()` on it, a dictionary with keys `id` and `name` is generated. We append each one of the three dictionaries formed into `dict_list` to create a list of dictionaries.\n",
    "\n",
    "\n",
    "To print the contents of the list in a neat way, we choose one element of the list (a dictionary) at once.\n",
    "The line `print(f\"{i['id']:<10}\",end=\"\")` prints the `id` value of a single dictionary, left justified to 10 spaces. The `end=\"\"` part makes sure that the cursor position does not change after it's done printing.\n",
    "\n",
    "The next line `print(f\"{i['name']:>40}\")` prints the `name` value of a single dictionary, right justified to 40 spaces. Here, by default `end=\"\\n\"` therfore after printing the cursor automatically moves to the next line.\n",
    "\n",
    "In a similar way, the contents of the three dictionaries are printed in a neat, table-like format.\n"
   ]
  },
  {
   "cell_type": "markdown",
   "id": "959169d6",
   "metadata": {},
   "source": [
    "# Functions for general manipulation"
   ]
  },
  {
   "cell_type": "code",
   "execution_count": 9,
   "id": "fb799573",
   "metadata": {},
   "outputs": [
    {
     "name": "stdout",
     "output_type": "stream",
     "text": [
      "0000000000001010\n",
      "1111111111110110\n",
      "11101100\n"
     ]
    }
   ],
   "source": [
    "# Write a function with name 'twosc' that will take a single integer \n",
    "# as input, and print out the binary representation of the number \n",
    "# as output.  The function should take one other optional parameter N \n",
    "# which represents the number of bits.  The final result should always \n",
    "# contain N characters as output (either 0 or 1) and should use \n",
    "# two's complement to represent the number if it is negative.\n",
    "# Examples:\n",
    "# twosc(10): 0000000000001010\n",
    "# twosc(-10): 1111111111110110\n",
    "# twosc(-20, 8): 11101100\n",
    "#\n",
    "# Use only functions from the Python standard library to do this.\n",
    "\n",
    "\n",
    "def twosc(x, N=16):\n",
    "        if x>=0:\n",
    "            return f\"{x:0{N}b}\"\n",
    "        else:\n",
    "            return f\"{2**N-abs(x):0{N}b}\"\n",
    "\n",
    "print(twosc(10))\n",
    "print(twosc(-10))\n",
    "print(twosc(-20, 8))\n",
    "\n"
   ]
  },
  {
   "cell_type": "markdown",
   "id": "e28be50a",
   "metadata": {},
   "source": [
    "In the above cell, we define a function `twosc(x,N)` to return the 2's complement of an input integer (`x`) in a given number of bits (`N`, which by default is 16).\n",
    "\n",
    "If the input $x \\geq 0$, the f-string `f\"{x:0{N}b}\"` is returned, which is the binary representation of x with `N` bits. If x is negative, the f-string `f\"{2**N-abs(x):0{N}b}\"` is returned. It is the 2's complement representation of x with `N` bits. \n",
    "\n",
    "It is derived using the fact that,\n",
    "\n",
    "$x$ + 2's complement of $x = 2^{N}$\n",
    "\n",
    "\n",
    "Also, in this case there is no need to check if the number x lies in the range of numbers that can be represented by N-bits, because it automatically adds zeroes in the front in case of extra places and in case of a lesser value of N than the required value, it returns the number with minimum possible bits in binary.\n"
   ]
  },
  {
   "cell_type": "markdown",
   "id": "d9845f63",
   "metadata": {},
   "source": [
    "# List comprehensions and decorators"
   ]
  },
  {
   "cell_type": "markdown",
   "id": "1bc9e922",
   "metadata": {},
   "source": [
    "## List of square of even numbers"
   ]
  },
  {
   "cell_type": "code",
   "execution_count": 10,
   "id": "9f573a70-d7f0-4496-926f-34b7cff5492f",
   "metadata": {},
   "outputs": [
    {
     "data": {
      "text/plain": [
       "[0, 4, 16, 36, 64]"
      ]
     },
     "execution_count": 10,
     "metadata": {},
     "output_type": "execute_result"
    }
   ],
   "source": [
    "# Explain the output you see below\n",
    "[x*x for x in range(10) if x%2 == 0]"
   ]
  },
  {
   "cell_type": "markdown",
   "id": "e1255f0e",
   "metadata": {},
   "source": [
    "This list comprehension creates a list of square of even numbers in the range 0 to 9. The `range(10)` creates an immutable sequence of numbers from 0 to 9, and `x%2==0` checks if each of the numbers is even. If it's even, the square of x is calculated and added to the list.\n",
    "\n",
    "Finally, on running the block, the required result is printed."
   ]
  },
  {
   "cell_type": "markdown",
   "id": "aca7faf6",
   "metadata": {},
   "source": [
    "## List comprehension on a 2-D list"
   ]
  },
  {
   "cell_type": "code",
   "execution_count": 11,
   "id": "cd9efe9f",
   "metadata": {},
   "outputs": [
    {
     "data": {
      "text/plain": [
       "[1, 2, 3, 4, 5, 6, 7, 8, 9]"
      ]
     },
     "execution_count": 11,
     "metadata": {},
     "output_type": "execute_result"
    }
   ],
   "source": [
    "# Explain the output you see below\n",
    "matrix = [[1,2,3], [4,5,6], [7,8,9]]\n",
    "[v for row in matrix for v in row]"
   ]
  },
  {
   "cell_type": "markdown",
   "id": "17a5017c",
   "metadata": {},
   "source": [
    "`matrix` is a 2-D list of three rows and three columns. `for row in matrix` chooses each row of the matrix, one at a time (in this case, one among [1,2,3] or [4,5,6] or [7,8,9]). `for v in row` chooses a single element of the selected row, which is added to the list according to the given list comprehension."
   ]
  },
  {
   "cell_type": "markdown",
   "id": "fd4d0d02",
   "metadata": {},
   "source": [
    "## Printing all prime numbers between 1 and 100"
   ]
  },
  {
   "cell_type": "code",
   "execution_count": 12,
   "id": "e7349601-a068-4d91-bc0f-bcc755c4b215",
   "metadata": {},
   "outputs": [
    {
     "name": "stdout",
     "output_type": "stream",
     "text": [
      "[2, 3, 5, 7, 11, 13, 17, 19, 23, 29, 31, 37, 41, 43, 47, 53, 59, 61, 67, 71, 73, 79, 83, 89, 97]\n"
     ]
    }
   ],
   "source": [
    "# Define a function `is_prime(x)` that will return True if a number \n",
    "# is prime, or False otherwise.\n",
    "# Use it to write a one-line statement that will print all \n",
    "# prime numbers between 1 and 100\n",
    "def is_prime(x):\n",
    "    if x<2:\n",
    "        return False\n",
    "    else:\n",
    "        for i in range(2,x//2 +1):\n",
    "            if x%i==0:\n",
    "                return False\n",
    "        return True\n",
    "\n",
    "print([x for x in range(1,101) if is_prime(x)])"
   ]
  },
  {
   "cell_type": "markdown",
   "id": "12f863c1",
   "metadata": {},
   "source": [
    "In the above cell, we define a function called `is_prime(x)` which checks if `x` is a prime number.\n",
    "It first checks if the number x is less than 2. If yes, it returns `False` as there are no prime numbers below 2. If the number $x\\geq 2$, we define a for loop that checks if the number is divisible by any of the numbers from 2 to `x//2` (both included), to check if the number has any factors other than 1 and the number itself. \n",
    "\n",
    "If it's divisible by any of the numbers in the given range, the function returns `False`, implying that the number is not prime. If not, the condition returns `True` at the end of the loop, implying that the number is prime.\n",
    "\n",
    "The last line uses a list comprehension to print all the primes between 1 and 100.\n",
    "It picks a number from the list of integers from 1 to 100 (both included), checks if it's prime. If yes, it adds it into the list. The `print()` over the list comprehension, prints the list of the prime numbers between 1 and 100."
   ]
  },
  {
   "cell_type": "markdown",
   "id": "6650a017",
   "metadata": {},
   "source": [
    "## Function decorators"
   ]
  },
  {
   "cell_type": "code",
   "execution_count": 13,
   "id": "3dd1087b-f384-41a2-88d8-6788336d2291",
   "metadata": {},
   "outputs": [
    {
     "name": "stdout",
     "output_type": "stream",
     "text": [
      "Hello happy flappy world\n"
     ]
    }
   ],
   "source": [
    "# Explain the output below\n",
    "def f1(x):\n",
    "    return \"happy \" + x\n",
    "def f2(f):\n",
    "    def wrapper(*args, **kwargs):\n",
    "        return \"Hello \" + f(*args, **kwargs) + \" world\"\n",
    "    return wrapper\n",
    "f3 = f2(f1)\n",
    "print(f3(\"flappy\"))"
   ]
  },
  {
   "cell_type": "markdown",
   "id": "bcf9ae63",
   "metadata": {},
   "source": [
    "In the above block we define a function `f1(x)` to return the concatenated output of the given input string with the string `happy `.\n",
    "\n",
    "We define an other function `f2(f)`, which in turn has an other function `wrapper`. The `wrapper` function returns a concatenated string containing the strings `Hello `, the output of the function f, with the same arguments provided to the `wrapper` function, and the string `world`. The function `f2` returns the function object `wrapper`.\n",
    "\n",
    "`f3=f2(f1)` results in the assignment of the `wrapper` function object corresponding to the function `f1`, to `f3`.\n",
    "\n",
    "The final line calls the function `f3` with the argument `flappy` which results in a call to `f2` with an argument `f1` with the argument `flappy`, which returns the string `Hello happy flappy world`."
   ]
  },
  {
   "cell_type": "code",
   "execution_count": 14,
   "id": "ede870a7-6564-4930-9ff1-818f075c3e43",
   "metadata": {},
   "outputs": [
    {
     "name": "stdout",
     "output_type": "stream",
     "text": [
      "Hello nappy flappy world\n"
     ]
    }
   ],
   "source": [
    "# Explain the output below\n",
    "@f2\n",
    "def f4(x):\n",
    "    return \"nappy \" + x\n",
    "\n",
    "print(f4(\"flappy\"))"
   ]
  },
  {
   "cell_type": "markdown",
   "id": "3c423205",
   "metadata": {},
   "source": [
    "The line `@f2` before `def f4(x)`, is same as the statement `f4=f2(f4)`. This results in the assignment of the `wrapper` function object corresponding to function `f4` to `f4`.\n",
    "\n",
    "The final line calls `f4` with the argument `flappy`, which results in a call to `f2` with an argument `f4` with the argument `flappy`, resulting in the return of the string `Hello nappy flappy world`."
   ]
  },
  {
   "cell_type": "markdown",
   "id": "de144cc1-a06a-4e96-8017-7887296dddc0",
   "metadata": {},
   "source": [
    "# File IO"
   ]
  },
  {
   "cell_type": "code",
   "execution_count": 15,
   "id": "09e62f52-fec6-4026-a4d8-ca4b87b19732",
   "metadata": {},
   "outputs": [],
   "source": [
    "# Write a function to generate prime numbers from 1 to N (input)\n",
    "# and write them to a file (second argument).  You can reuse the prime\n",
    "# detection function written earlier.\n",
    "def write_primes(N, filename):\n",
    "    with open(filename,\"w\") as f:\n",
    "        for i in [x for x in range(1,N+1) if is_prime(x)]:\n",
    "            f.write(f\"{i}\\n\")\n",
    "\n",
    "\n",
    "write_primes(200,\"primes.txt\")"
   ]
  },
  {
   "cell_type": "markdown",
   "id": "00385717",
   "metadata": {},
   "source": [
    "The function `write_primes(N,filename)` generates prime numbers from 1 to N (both included) and writes them to a file `filename`.\n",
    "\n",
    "It opens the given `filename` in `write` mode using a file handle named `f`. \n",
    "`[x for x in range(1,N+1) if is_prime(x)]` is a list comprehension to generate a list of prime numbers from 1 to N (both included). Using a for loop, we choose each element one by one and write them in a the file as a f-string along with `\\n` character at the end of each line.\n",
    "\n",
    "In the above cell, we write all the prime numbers in the range 1 to 200, to a file named `primes.txt` in the same directory as the notebook."
   ]
  },
  {
   "cell_type": "markdown",
   "id": "9b2de5cb-13c3-4804-9576-e7bb6fd3a371",
   "metadata": {},
   "source": [
    "# Exceptions"
   ]
  },
  {
   "cell_type": "code",
   "execution_count": 1,
   "id": "eec5626e-6e92-45bf-b307-2459de0f44e1",
   "metadata": {},
   "outputs": [
    {
     "name": "stdout",
     "output_type": "stream",
     "text": [
      "Please enter an integer.\n"
     ]
    }
   ],
   "source": [
    "# Write a function that takes in a number as input, and prints out \n",
    "# whether it is a prime or not.  If the input is not an integer,\n",
    "# print an appropriate error message.  Use exceptions to detect problems.\n",
    "def check_prime(x):\n",
    "    try:\n",
    "        n=int(x)\n",
    "        if is_prime(n):\n",
    "            print(f\"{n} is a prime number.\")\n",
    "        else:\n",
    "            print(f\"{n} is not a prime number.\")\n",
    "            \n",
    "    except ValueError:\n",
    "        print(\"Please enter an integer.\")\n",
    "    \n",
    "    \n",
    "\n",
    "\n",
    "x = input('Enter a number: ')\n",
    "check_prime(x)"
   ]
  },
  {
   "cell_type": "markdown",
   "id": "81a7aaa7",
   "metadata": {},
   "source": [
    "This cell contains a function `check_prime(x)` which checks if the given input x is a prime number using the `is_prime(n)` function defined earlier.\n",
    "\n",
    "The line `n=int(x)` converts the string input to an integer, because by default inputs received from the user are in the form of strings. We then use the `is_prime()` function on `n` to check and print if the number is prime or not prime.\n",
    "\n",
    "The previous three lines, throw a `ValueError` if the input can't be converted to an integer (like `x=\"12.3\"` or `x=\"demostring\"`), which can be caught by a `try-except` block and a required help message can be printed instead of letting the program crash due to the error."
   ]
  }
 ],
 "metadata": {
  "authors": [
   {
    "name": "Santhosh S P ee21b119"
   }
  ],
  "kernelspec": {
   "display_name": "Python 3 (ipykernel)",
   "language": "python",
   "name": "python3"
  },
  "language_info": {
   "codemirror_mode": {
    "name": "ipython",
    "version": 3
   },
   "file_extension": ".py",
   "mimetype": "text/x-python",
   "name": "python",
   "nbconvert_exporter": "python",
   "pygments_lexer": "ipython3",
   "version": "3.8.10"
  },
  "title": "EE2703 - Week 1",
  "toc-autonumbering": true,
  "vscode": {
   "interpreter": {
    "hash": "767d51c1340bd893661ea55ea3124f6de3c7a262a8b4abca0554b478b1e2ff90"
   }
  }
 },
 "nbformat": 4,
 "nbformat_minor": 5
}
