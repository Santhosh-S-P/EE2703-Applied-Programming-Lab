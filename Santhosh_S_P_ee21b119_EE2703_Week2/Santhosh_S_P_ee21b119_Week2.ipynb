{
 "cells": [
  {
   "cell_type": "markdown",
   "metadata": {},
   "source": [
    "# Function to find factorial of an integer N"
   ]
  },
  {
   "cell_type": "markdown",
   "metadata": {},
   "source": [
    "## Implementing factorial using recursion"
   ]
  },
  {
   "cell_type": "code",
   "execution_count": 110,
   "metadata": {},
   "outputs": [
    {
     "name": "stdout",
     "output_type": "stream",
     "text": [
      "5040\n",
      "510 ns ± 2.27 ns per loop (mean ± std. dev. of 7 runs, 1,000,000 loops each)\n"
     ]
    }
   ],
   "source": [
    "#sample input\n",
    "x=7\n",
    "\n",
    "def fact_recursive(n):\n",
    "    if n>1:\n",
    "        return n*fact_recursive(n-1)\n",
    "    else:\n",
    "        return 1\n",
    "\n",
    "print(fact_recursive(x))\n",
    "%timeit fact_recursive(x)"
   ]
  },
  {
   "cell_type": "markdown",
   "metadata": {},
   "source": [
    "## Implementing factorial using a for loop"
   ]
  },
  {
   "cell_type": "code",
   "execution_count": 111,
   "metadata": {},
   "outputs": [
    {
     "name": "stdout",
     "output_type": "stream",
     "text": [
      "5040\n",
      "379 ns ± 2.91 ns per loop (mean ± std. dev. of 7 runs, 1,000,000 loops each)\n"
     ]
    }
   ],
   "source": [
    "def fact_for(n):\n",
    "    prod=1\n",
    "    for i in range(1,n+1):\n",
    "        prod*=i\n",
    "    return prod\n",
    "\n",
    "print(fact_for(x))\n",
    "%timeit fact_for(x)"
   ]
  },
  {
   "cell_type": "markdown",
   "metadata": {},
   "source": [
    "## Factorial using the built-in factorial from the NumPy library"
   ]
  },
  {
   "cell_type": "code",
   "execution_count": 112,
   "metadata": {},
   "outputs": [
    {
     "name": "stdout",
     "output_type": "stream",
     "text": [
      "5040\n",
      "87.3 ns ± 0.213 ns per loop (mean ± std. dev. of 7 runs, 10,000,000 loops each)\n"
     ]
    }
   ],
   "source": [
    "import numpy as np\n",
    "print(np.math.factorial(x))\n",
    "%timeit np.math.factorial(x)"
   ]
  },
  {
   "cell_type": "markdown",
   "metadata": {},
   "source": [
    "## Explanation\n",
    "\n",
    "* The recursive solution takes is slower and takes around 538 ns compared to the for loop solution, which takes only 375 ns beacuse, everytime a function is called a new stack frame is created, it is added to the call stack before evaluating the arguments and running the body of the function, making it slower.\n",
    "\n",
    "* The built-in factorial function of numpy takes only 85 ns to calculate the result. It is the fastest because numpy functions are written in C to optimize the performance of the code."
   ]
  },
  {
   "cell_type": "markdown",
   "metadata": {},
   "source": [
    "# Solving a system of linear equations by Gauss-Jordan elimination"
   ]
  },
  {
   "cell_type": "markdown",
   "metadata": {},
   "source": [
    "## Creating matrices A and B filled with random numbers"
   ]
  },
  {
   "cell_type": "code",
   "execution_count": 113,
   "metadata": {},
   "outputs": [],
   "source": [
    "import numpy as np\n",
    "A=100*np.random.rand(10,10)\n",
    "B=100*np.random.rand(10,1)"
   ]
  },
  {
   "cell_type": "markdown",
   "metadata": {},
   "source": [
    "The above code creates a matrix `A` of dimensions 10X10 and matrix `B` of dimensions 10X1 filled with random numbers from 0 to 100."
   ]
  },
  {
   "cell_type": "markdown",
   "metadata": {},
   "source": [
    "## Function to solve $Ax=B$ by performing Gauss-Jordan elimination and return the solution"
   ]
  },
  {
   "cell_type": "code",
   "execution_count": 114,
   "metadata": {},
   "outputs": [
    {
     "name": "stdout",
     "output_type": "stream",
     "text": [
      "[[ 0.90249789]\n",
      " [ 0.44188606]\n",
      " [ 0.65522929]\n",
      " [-3.36151421]\n",
      " [-1.07171417]\n",
      " [ 0.73213797]\n",
      " [-0.32090416]\n",
      " [ 0.90095927]\n",
      " [-0.16435925]\n",
      " [ 1.63930847]]\n",
      "359 µs ± 3.71 µs per loop (mean ± std. dev. of 7 runs, 1,000 loops each)\n"
     ]
    }
   ],
   "source": [
    "def GaussJordanSolve(A,B):\n",
    "\n",
    "    #augmented matrix\n",
    "    C=np.c_[A, B]\n",
    "\n",
    "\n",
    "    #we make sure that there are same number of equations as the number of variables\n",
    "    #for proper solution \n",
    "    if np.shape(A)[0]==np.shape(A)[1]==np.shape(B)[0]:\n",
    "        for i in range(len(A)):\n",
    "            lst=list(range(len(C)))\n",
    "            lst.remove(i)\n",
    "\n",
    "            #checking if the diagonal element is zero\n",
    "            if C[i][i]!=0:\n",
    "                C[i]/=C[i][i]\n",
    "            else:\n",
    "                #shifting the rows if the diagonal element is zero \n",
    "                for k in [l for l in lst if l>i]:\n",
    "                    if C[k][i]!=0:\n",
    "                        C[[i,k]]=C[[k,i]]\n",
    "                        C[i]/=C[i][i]\n",
    "                        break\n",
    "                break\n",
    "            \n",
    "            #row operations in the augmented matrix\n",
    "            for j in lst:\n",
    "                C[j]=C[j]-C[j][i]*C[i]\n",
    "\n",
    "        #checking for inconsistent system, and infinite solutions\n",
    "        for row in C:\n",
    "            if np.all((row == 0)):\n",
    "                if row[:-1]==0:\n",
    "                    print(\"Infinite solutions\")\n",
    "                    return None\n",
    "                else:\n",
    "                    print(\"Inconsistent\")\n",
    "                    return None\n",
    "        \n",
    "        #if the system is consistent the function returns the solution as an array\n",
    "        return C[:,-1].reshape(-1,1)\n",
    "    else:\n",
    "        print(\"Make sure that matrix A is a square matrix of dimension n and matrix B is a matrix of dimensions nx1.\")\n",
    "        return None\n",
    "\n",
    "\n",
    "#calling the function and printing the result and timing it\n",
    "solution=GaussJordanSolve(A,B)\n",
    "print(solution)\n",
    "\n",
    "%timeit GaussJordanSolve(A,B)\n"
   ]
  },
  {
   "cell_type": "markdown",
   "metadata": {},
   "source": [
    "* The above function `GaussJordanSolve()` checks if the number of equations is equal to the number of variables before performing the Gauss-Jordan elimination to return a proper a solution.\n",
    "* If the diagonal element is non-zero the row is normalized and row operations are carried out.\n",
    "* If it's zero, the row is swapped with other row in the matrix, it checks if the diagonal element is zero. If yes, it continues with the row operations, if not it tries swapping with a different row and this goes on till the diagonal element is non-zero.\n",
    "* In the final RREF if a row is full of zeroes, the system has infinite solutions because essentially it has become a $n$ variable system with $(n-1)$ equations. The functions returns `None`.\n",
    "* In the final RREF if a row is full of zeroes except the final element, the system is inconsistent and the function returns `None`.\n",
    "* If the system is consistent and reduced to the RREF form, the last column is returned as the solution after converting it into a column vector.\n"
   ]
  },
  {
   "cell_type": "markdown",
   "metadata": {},
   "source": [
    "## Using `np.linalg.solve()` to solve $Ax=B$"
   ]
  },
  {
   "cell_type": "code",
   "execution_count": 115,
   "metadata": {},
   "outputs": [
    {
     "name": "stdout",
     "output_type": "stream",
     "text": [
      "[[ 0.90249789]\n",
      " [ 0.44188606]\n",
      " [ 0.65522929]\n",
      " [-3.36151421]\n",
      " [-1.07171417]\n",
      " [ 0.73213797]\n",
      " [-0.32090416]\n",
      " [ 0.90095927]\n",
      " [-0.16435925]\n",
      " [ 1.63930847]]\n",
      "16.7 µs ± 1.44 µs per loop (mean ± std. dev. of 7 runs, 100,000 loops each)\n"
     ]
    }
   ],
   "source": [
    "print(np.linalg.solve(A,B))\n",
    "%timeit np.linalg.solve(A,B)"
   ]
  },
  {
   "cell_type": "markdown",
   "metadata": {},
   "source": [
    "## Conclusion\n",
    "`np.linalg.solve()` is much faster than `GaussJordanSolve()` because numpy is written in C to optimize the performance. Also, they return the same result.\n"
   ]
  },
  {
   "cell_type": "markdown",
   "metadata": {},
   "source": [
    "# Solving circuits by modified nodal analysis"
   ]
  },
  {
   "cell_type": "markdown",
   "metadata": {},
   "source": [
    "## Reading the file and extracting the required part and mapping node numbers to different node names"
   ]
  },
  {
   "cell_type": "code",
   "execution_count": 116,
   "metadata": {},
   "outputs": [
    {
     "name": "stdout",
     "output_type": "stream",
     "text": [
      "[['R1', 'GND', '1', '1e3'], ['R2', '1', '2', '4e3'], ['R3', '2', 'GND', '20e3'], ['R4', '2', '3', '8e3'], ['R5', 'GND', '4', '10e3'], ['V1', 'GND', '4', 'dc', '5']]\n",
      "{'GND': 0, '1': 1, '2': 2, '3': 3, '4': 4}\n"
     ]
    }
   ],
   "source": [
    "import numpy as np\n",
    "\n",
    "#this has all important lines of the netlist (i.e everything b/w .circuit and .end excluding them and the .ac line)\n",
    "file=open(\"ckt1.netlist\",\"r\")\n",
    "whole_file=file.read()\n",
    "file.close()\n",
    "\n",
    "#node_mapping is the dictionary that maps node numbers from 0,1,2.. to node names\n",
    "node_mapping={}\n",
    "node_number=1\n",
    "\n",
    "#to contain the list of all components (it's basically a nested list)\n",
    "component_list=[]\n",
    "\n",
    "#reading only the part between .circuit and .end and the line starting with .ac\n",
    "net_list=whole_file[whole_file.find('.circuit'):whole_file.find('.end')+4]\n",
    "for i in whole_file.splitlines():\n",
    "    if i[:3]=='.ac':\n",
    "        net_list=net_list+'\\n'+i\n",
    "\n",
    "\n",
    "lines=[i for i in net_list.splitlines() if i not in ['.circuit', '.end']]\n",
    "\n",
    "for line in lines:      #excluding the lines with .circuit and .end    \n",
    "    if '#' in line:\n",
    "        components=line[:line.find('#')].split() #excluding the part after # (comments)\n",
    "    else:\n",
    "        components=line.split()\n",
    "    component_list+=[components]\n",
    "    \n",
    "    #mapping all node names to numbers, starting from 0 for GND and whole numbers for other nodes\n",
    "    for i in components[1:-1]:\n",
    "        if i=='GND':\n",
    "            node_mapping['GND']=0\n",
    "\n",
    "    #other nodes are mapped into whole numbers\n",
    "    for i in components[1:3]:\n",
    "        if i not in node_mapping and components[0]!='.ac':\n",
    "            node_mapping[i]=node_number\n",
    "            node_number+=1\n",
    "\n",
    "#printing list of all components and the node mapping\n",
    "print(component_list)\n",
    "print(node_mapping)"
   ]
  },
  {
   "cell_type": "markdown",
   "metadata": {},
   "source": [
    "* The above cell, first opens the given file in read mode, reads the contents and closes it.\n",
    "* We define a dictionary `node_mapping` to map all the different node names to numbers, starting from 0 for GND and natural numbers for other nodes.\n",
    "* `component_list` is a list of the useful lines in the netlist file including the lines between .circuit and .end defining the components and the frequency of the AC source, excluding the comments."
   ]
  },
  {
   "cell_type": "markdown",
   "metadata": {},
   "source": [
    "## Extracting different components from the netlist data"
   ]
  },
  {
   "cell_type": "code",
   "execution_count": 117,
   "metadata": {},
   "outputs": [
    {
     "name": "stdout",
     "output_type": "stream",
     "text": [
      "[['V1', 'GND', '4', 'dc', '5']]\n",
      "[]\n",
      "[['R1', 'GND', '1', '1e3'], ['R2', '1', '2', '4e3'], ['R3', '2', 'GND', '20e3'], ['R4', '2', '3', '8e3'], ['R5', 'GND', '4', '10e3']]\n",
      "[]\n",
      "[]\n",
      "[]\n",
      "[]\n"
     ]
    }
   ],
   "source": [
    "\n",
    "\n",
    "#extracting different parts from component_list\n",
    "\n",
    "#contains lines having DC voltage source and DC current source\n",
    "voltage_source_list=[]\n",
    "current_source_list=[]\n",
    "\n",
    "#contains lines having AC voltage source and AC current source\n",
    "voltage_source_list_AC=[]\n",
    "current_source_list_AC=[]\n",
    "\n",
    "#contains lines having resistors, capacitors and inductors\n",
    "resistor_list=[]\n",
    "capacitor_list=[]\n",
    "inductor_list=[]\n",
    "\n",
    "#based on SPICE syntax we classify and add lines corresponding to the required element\n",
    "for i in component_list:\n",
    "    if (i[0][0]=='V' or i[0][0]=='v') and i[3]=='dc':\n",
    "        voltage_source_list+=[i]\n",
    "    elif (i[0][0]=='V' or i[0][0]=='v') and i[3]=='ac':\n",
    "        voltage_source_list_AC+=[i]\n",
    "    elif (i[0][0]=='I' or i[0][0]=='i') and i[3]=='dc':\n",
    "        current_source_list+=[i]\n",
    "    elif (i[0][0]=='I' or i[0][0]=='i') and i[3]=='ac':\n",
    "        current_source_list_AC+=[i]\n",
    "    elif i[0][0]=='R' or i[0][0]=='r':\n",
    "        resistor_list+=[i]\n",
    "    elif i[0][0]=='C' or i[0][0]=='c':\n",
    "        capacitor_list+=[i]\n",
    "    elif i[0][0]=='L' or i[0][0]=='l':\n",
    "        inductor_list+=[i]\n",
    "\n",
    "#printing the contents of all those lists\n",
    "print(voltage_source_list)\n",
    "print(current_source_list)\n",
    "print(resistor_list)\n",
    "print(voltage_source_list_AC)\n",
    "print(current_source_list_AC)\n",
    "print(capacitor_list)\n",
    "print(inductor_list)"
   ]
  },
  {
   "cell_type": "markdown",
   "metadata": {},
   "source": [
    "In the above cell, we define different lists to classify elements of `component_list` into their respective lists, based on the first letter of the lines according to the SPICE syntax."
   ]
  },
  {
   "cell_type": "markdown",
   "metadata": {},
   "source": [
    "## Extracting the frequency"
   ]
  },
  {
   "cell_type": "code",
   "execution_count": 118,
   "metadata": {},
   "outputs": [],
   "source": [
    "#to contain the list of frequencies\n",
    "f_list=[]   \n",
    "for element in component_list:\n",
    "    if element[0]=='.ac':\n",
    "        f_list+=[float(element[2])]\n",
    "\n",
    "#raising an exception if there are multiple frequencies involved, or there are both\n",
    "# ac and dc sources\n",
    "if len(f_list)>1 or (len(f_list)>0 and len(voltage_source_list)>0):\n",
    "    raise Exception(\"This program can't solve circuits with more than one frequency.\")\n",
    "\n",
    "\n",
    "#if there's only a single frequency, calculate the angular frequency\n",
    "if len(f_list)>0:\n",
    "    print(f_list)\n",
    "    #the angular frequency\n",
    "    w=2*np.pi*f_list[0]\n",
    "    print(w)"
   ]
  },
  {
   "cell_type": "markdown",
   "metadata": {},
   "source": [
    "* In the above cell, we extract the frequency of operation of the circuit which is mentioned in the netlist line starting with `.ac`.\n",
    "* We raise an exception if the circuit has more than one frequency, or it has both AC and DC sources.\n",
    "* If we deal with only a single frequency, the angular frequency is also calculated."
   ]
  },
  {
   "cell_type": "markdown",
   "metadata": {},
   "source": [
    "## Constructing the matrix"
   ]
  },
  {
   "cell_type": "code",
   "execution_count": 119,
   "metadata": {},
   "outputs": [
    {
     "name": "stdout",
     "output_type": "stream",
     "text": [
      "[[0.+0.j 0.+0.j 0.+0.j 0.+0.j 0.+0.j]\n",
      " [0.+0.j 0.+0.j 0.+0.j 0.+0.j 0.+0.j]\n",
      " [0.+0.j 0.+0.j 0.+0.j 0.+0.j 0.+0.j]\n",
      " [0.+0.j 0.+0.j 0.+0.j 0.+0.j 0.+0.j]\n",
      " [0.+0.j 0.+0.j 0.+0.j 0.+0.j 0.+0.j]]\n",
      "[[0.+0.j]\n",
      " [0.+0.j]\n",
      " [0.+0.j]\n",
      " [0.+0.j]\n",
      " [0.+0.j]]\n"
     ]
    }
   ],
   "source": [
    "#the circuit matrix is in the form of Mx=N\n",
    "\n",
    "#dimension of the matrix\n",
    "dim=len(node_mapping)-1+len(voltage_source_list)+len(voltage_source_list_AC)\n",
    "\n",
    "\n",
    "M=np.zeros((dim,dim), dtype=np.complex64)\n",
    "N=np.zeros((dim,1) , dtype=np.complex64)\n",
    "\n",
    "print(M)\n",
    "print(N)"
   ]
  },
  {
   "cell_type": "markdown",
   "metadata": {},
   "source": [
    "* We define `dim` as the number of nodes other than GND and the number of total voltage sources (DC and AC included).\n",
    "* We define a square matrix `M` of dimension `dim` and a column matrix `N` of dimension `dim`.\n",
    "* All these matrices contains variables of `np.complex64` datatype to deal with both DC circuit and impedances while solving for the steady state of AC circuits. "
   ]
  },
  {
   "cell_type": "markdown",
   "metadata": {},
   "source": [
    "## Adding the individual stamps of each of the elements"
   ]
  },
  {
   "cell_type": "code",
   "execution_count": 120,
   "metadata": {},
   "outputs": [
    {
     "name": "stdout",
     "output_type": "stream",
     "text": [
      "[[-7.5000006e-04+0.j -2.5000001e-04+0.j  0.0000000e+00+0.j\n",
      "   0.0000000e+00+0.j  0.0000000e+00+0.j]\n",
      " [-2.5000001e-04+0.j  4.2500001e-04+0.j -1.2500001e-04+0.j\n",
      "   0.0000000e+00+0.j  0.0000000e+00+0.j]\n",
      " [ 0.0000000e+00+0.j -1.2500001e-04+0.j  1.2500001e-04+0.j\n",
      "   0.0000000e+00+0.j  0.0000000e+00+0.j]\n",
      " [ 0.0000000e+00+0.j  0.0000000e+00+0.j  0.0000000e+00+0.j\n",
      "  -9.9999997e-05+0.j  1.0000000e+00+0.j]\n",
      " [ 0.0000000e+00+0.j  0.0000000e+00+0.j  0.0000000e+00+0.j\n",
      "   1.0000000e+00+0.j  0.0000000e+00+0.j]]\n",
      "[[ 0.+0.j]\n",
      " [ 0.+0.j]\n",
      " [ 0.+0.j]\n",
      " [ 0.+0.j]\n",
      " [-5.+0.j]]\n"
     ]
    }
   ],
   "source": [
    "#adding stamps of resistors\n",
    "def add_resistor_stamps(resistor_list):\n",
    "    for res in resistor_list:\n",
    "\n",
    "        #extracting the node numbers of the component\n",
    "        n1=node_mapping[res[1]]\n",
    "        n2=node_mapping[res[2]]\n",
    "\n",
    "        #extracting the value of the component\n",
    "        #we convert it to complex\n",
    "        val=complex(res[3])\n",
    "\n",
    "        #resistor stamp if both terminals are not GND\n",
    "        if n1!=0 and n2!=0:\n",
    "            M[n1-1,n1-1]+=1/val\n",
    "            M[n1-1,n2-1]+=-1/val\n",
    "            M[n2-1,n1-1]+=-1/val\n",
    "            M[n2-1,n2-1]+=1/val\n",
    "        \n",
    "        #resistor stamp if node n2 corresponds to GND\n",
    "        if n1!=0 and n2==0:\n",
    "            M[n1-1,n1-1]+=1/val\n",
    "\n",
    "        #resistor stamp if node n1 corresponds to GND\n",
    "        if n1==0 and n2!=0:\n",
    "            M[n2-1,n2-1]+=-1/val\n",
    "    \n",
    "#stamps of dc current sources\n",
    "def add_current_stamps(current_source_list):\n",
    "    for cur in current_source_list:\n",
    "\n",
    "        #extracting the node numbers of the current source\n",
    "        n1=node_mapping[cur[1]]\n",
    "        n2=node_mapping[cur[2]]\n",
    "\n",
    "        #extracting the value of the current source\n",
    "        val=complex(cur[4])\n",
    "\n",
    "        #current source stamp when both the nodes are not GND\n",
    "        if n1!=0 and n2!=0:\n",
    "            N[n1-1]+=-val\n",
    "            N[n2-1]+=val\n",
    "\n",
    "        #current source stamp if node n1 corresponds to GND\n",
    "        if n1==0 and n2!=0:\n",
    "            N[n2-1]+=val\n",
    "        \n",
    "        #current source stamp if node n2 corresponds to GND\n",
    "        if n1!=0 and n2==0:\n",
    "            N[n1-1]+=-val\n",
    "\n",
    "\n",
    "#stamps of dc voltage sources\n",
    "def add_voltage_stamps(voltage_source_list):\n",
    "    row_no=len(node_mapping)-1\n",
    "    \n",
    "    for vol in voltage_source_list:\n",
    "\n",
    "        #extracting the node numbers of the voltage source\n",
    "        n1=node_mapping[vol[1]]\n",
    "        n2=node_mapping[vol[2]]\n",
    "\n",
    "        #extracting the value of the voltage source\n",
    "        val=complex(vol[4])\n",
    "\n",
    "        #voltage source stamp when both the nodes are not GND\n",
    "        if n1!=0 and n2!=0:\n",
    "            M[row_no,n1-1]+=1\n",
    "            M[row_no,n2-1]+=-1\n",
    "            M[n1-1,row_no]+=1\n",
    "            M[n2-1,row_no]+=-1\n",
    "            \n",
    "            N[row_no]+=val\n",
    "\n",
    "        #current source stamp if node n2 corresponds to GND\n",
    "        elif n1!=0 and n2==0:\n",
    "            M[row_no,n1-1]+=1\n",
    "            M[n1-1,row_no]+=1\n",
    "\n",
    "            N[row_no]+=val\n",
    "        \n",
    "        #current source stamp if node n1 corresponds to GND\n",
    "        elif n1==0 and n2!=0:\n",
    "            M[row_no,n2-1]+=1\n",
    "            M[n2-1,row_no]+=1\n",
    "\n",
    "            N[row_no]+=-val\n",
    "\n",
    "        row_no+=1\n",
    "\n",
    "##converting the ac sources and components to phasors\n",
    "\n",
    "## as we're dealing with steady state of circuits, we convert a capacitor of capacitance C\n",
    "# to a resistor of 1/(j*w*C). \n",
    "for cap in capacitor_list:\n",
    "\n",
    "\n",
    "    #we append the required list corresponding to the capacitor to the list of resistors\n",
    "    # after changing its value to its impedance\n",
    "    val=float(cap[3])\n",
    "    cap[3]=str(complex(0,-1/(w*val)))\n",
    "    resistor_list.append(cap)\n",
    "\n",
    "## as we're dealing with steady state of circuits, we convert a inductor of inductance L\n",
    "# to a resistor of j*w*L. \n",
    "for ind in inductor_list:\n",
    "\n",
    "    #we append the required list corresponding to the inductor to the list of resistors\n",
    "    # after changing its value to its impedance\n",
    "    val=float(ind[3])\n",
    "    ind[3]=str(complex(0,w*val))\n",
    "    resistor_list.append(ind)\n",
    "\n",
    "## we convert AC voltage sources of amplitude V, phase phi to its correspnding phasor,\n",
    "# a DC voltage source of voltage Vcos(phi)+j*Vsin(phi) \n",
    "for ac_vol in voltage_source_list_AC:\n",
    "\n",
    "    #we append the required list corresponding to the AC voltage source to the list of DC voltage sources\n",
    "    # after changing its value to its corresponding phasor\n",
    "    amp=float(ac_vol[4])\n",
    "    phi=float(ac_vol[5])\n",
    "\n",
    "    amp=str(complex(amp*np.cos(phi),amp*np.sin(phi)))\n",
    "    ac_vol.pop()\n",
    "\n",
    "    voltage_source_list.append(ac_vol)\n",
    "\n",
    "## we convert AC current sources of amplitude I, phase phi to its correspnding phasor\n",
    "# a DC current source of current Vcos(phi)+j*Vsin(phi) \n",
    "for ac_cur in current_source_list_AC:\n",
    "\n",
    "    #we append the required list corresponding to the AC current source to the list of DC current sources\n",
    "    # after changing its value to its corresponding phasor\n",
    "    amp=float(ac_cur[4])\n",
    "    phi=float(ac_cur[5])\n",
    "\n",
    "\n",
    "    amp=str(complex(amp*np.cos(phi),amp*np.sin(phi)))\n",
    "    ac_cur.pop()\n",
    "\n",
    "    current_source_list.append(ac_cur)\n",
    "\n",
    "\n",
    "add_resistor_stamps(resistor_list)\n",
    "add_current_stamps(current_source_list)\n",
    "add_voltage_stamps(voltage_source_list)\n",
    "\n",
    "print(M)\n",
    "print(N)"
   ]
  },
  {
   "cell_type": "markdown",
   "metadata": {},
   "source": [
    "* The above cell adds the required stamps in the matrices M and N, for all the components available in the netlist.\n",
    "* The function `add_resistor_stamps()` takes the `resistor_list` as the input. It loops through it one element at a time. The netlist line say, `R1 n1 n2 V` is converted to its required stamp by:\n",
    "    * adding $\\frac{1}{V}$ at element in $n_{1}^{th}$ row and $n_{1}^{th}$ column and $n_{2}^{th}$ row and to the $n_{2}^{th}$ column of the matrix `M`. \n",
    "    * subtracting the value $\\frac{1}{V}$ from the element in the $n_{1}^{th}$ row and $n_{2}^{th}$ column and from the element in $n_{2}^{th}$ row and $n_{1}^{th}$ column of the matrix `M`.\n",
    "\n",
    "* The function `add_current_stamps()` takes the `current_source_list` as the input. To process the netlist line `I1 n1 n2 I`, \n",
    "    * the value $-I$ is added to $(n_{1}-1)^{th}$ row of the matrix `N`\n",
    "    * the value $I$ is added to its $(n_{2}-1)^{th}$ row of `N` matrix.\n",
    "* The function `add_voltage_stamps()` takes the `voltage_source_list` as the input. To process the netlist line `V1 n1 n2 dc V`: \n",
    "    * the value `1` is added to the next row after the rows corresponding to the nodal voltages at the $(n_{1}-1)^{th}$ column and the value `-1` is added to the $(n_{2}-1)^{th}$ column in the same row of the `M` matrix.\n",
    "    * the value `1` is added to the next column after the rows corresponding to the nodal voltages at the $(n_{1}-1)^{th}$ row and the value `-1` is added to the $(n_{2}-1)^{th}$ row in the same column of the `M` matrix.\n",
    "    * the value `V` is added to the $(n_{1}-1)^{th}$ row of the matrix `N`, and the value `-V` is added to the $(n_{2}-1)^{th}$ row of the matrix `N`.\n",
    "* Every element in the `capacitor_list` is added as an element of the `resistor_list` with a value of $\\frac{-1}{j\\omega C}$.\n",
    "* Every element in the `inductor_list` is added as an element of the `resistor_list` with a value of $j\\omega L$.\n",
    "* Every element in the `voltage_source_list_AC` is added as an element of the `voltage_source_list` with a value of $V\\cos{\\phi}+ j(V\\sin{\\phi})$, where $V$ is the amplitude of the voltage source and $\\phi$ is its phase.\n",
    "* Every element in the `current_source_list_AC` is added as an element of the `current_source_list` with a value of $I\\cos{\\phi}+ j(I\\sin{\\phi})$, where $I$ is the amplitude of the voltage source and $\\phi$ is its phase."
   ]
  },
  {
   "cell_type": "markdown",
   "metadata": {},
   "source": [
    "## Solving the matrix equation $Mx=N$"
   ]
  },
  {
   "cell_type": "code",
   "execution_count": 121,
   "metadata": {},
   "outputs": [
    {
     "name": "stdout",
     "output_type": "stream",
     "text": [
      "{'GND': 0, '1': 1, '2': 2, '3': 3, '4': 4}\n",
      "[[-0.0000000e+00-0.j]\n",
      " [ 0.0000000e+00+0.j]\n",
      " [ 0.0000000e+00+0.j]\n",
      " [-4.9999995e+00-0.j]\n",
      " [-4.9999997e-04+0.j]]\n"
     ]
    }
   ],
   "source": [
    "circuitsolution=GaussJordanSolve(A=M,B=N)\n",
    "print(node_mapping)\n",
    "print(circuitsolution)"
   ]
  },
  {
   "attachments": {},
   "cell_type": "markdown",
   "metadata": {},
   "source": [
    "Matrices `M` and `N` are solved using the `GaussJordanSolve()` function.\n",
    "The solution matrix $x$ is in the form of \n",
    "\n",
    "$$\n",
    "\\begin{bmatrix}\n",
    "V(n_{1})\\\\\n",
    "V(n_{2})\\\\\n",
    "...     \\\\\n",
    "I_{voltage source}\\\\\n",
    "\\end{bmatrix}\n",
    "$$.\n",
    "\n",
    "\n",
    "For circuits with DC components, the solution matrix represents the actual voltages in the nodes and the current through the voltage sources. For circuits with AC components, it represents the voltage in nodes and the current through the voltage source in phasor notation."
   ]
  }
 ],
 "metadata": {
  "authors": [
   {
    "name": "Santhosh S P ee21b119"
   }
  ],
  "kernelspec": {
   "display_name": "Python 3 (ipykernel)",
   "language": "python",
   "name": "python3"
  },
  "language_info": {
   "codemirror_mode": {
    "name": "ipython",
    "version": 3
   },
   "file_extension": ".py",
   "mimetype": "text/x-python",
   "name": "python",
   "nbconvert_exporter": "python",
   "pygments_lexer": "ipython3",
   "version": "3.8.10"
  },
  "title": "EE2703 - Week 2",
  "toc-autonumbering": true,
  "vscode": {
   "interpreter": {
    "hash": "e7370f93d1d0cde622a1f8e1c04877d8463912d04d973331ad4851f04de6915a"
   }
  }
 },
 "nbformat": 4,
 "nbformat_minor": 2
}
